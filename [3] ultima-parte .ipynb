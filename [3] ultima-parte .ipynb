{
 "cells": [
  {
   "cell_type": "code",
   "metadata": {
    "cell_id": "00000-5f09ccb3-7d3a-4ed5-a669-f72ace5e6377",
    "deepnote_cell_type": "code"
   },
   "source": "## Producto interno expresado con normas\n\nEl **producto interno** de dos vectores es numéricamente igual a la multiplicación de las normas (de orden 2) de estos vectores por el coseno que forman:\n\n$v_1.dot(v_2) = norm_2(v_1)*norm_2(v_2)*cos(α)$\n\n---\nLa importancia de conocer los **angulos** que tienen nuestros **vectores** es que en machine learning se usa la **similitud de coseno**, por ejemplo:\n\nSi tenemos un vector todas las palabras de **un Documento** y entro vector todas las palabras de **otro Documento**, podriamos evaluar. Cual es el angulo que estos dos vectores estan formando?. Y si ese angulo fuera **pequeño** esto quiere decir que esos dos docuementos **se parecen mucho**, por el contrario si el angulo **defirieran en 90 grados** quiere decir que los Documentos **no estan relacionados**.",
   "execution_count": null,
   "outputs": []
  },
  {
   "cell_type": "code",
   "metadata": {
    "cell_id": "00001-951b03b3-dac6-400f-aaa9-1725bea52e24",
    "deepnote_cell_type": "code"
   },
   "source": "v1 = np.array([0,0,0,3])\nv2 = np.array([0,0,3,3])\n\nplt.xlim(-2,6)\nplt.ylim(-2,6)\n\nplt.quiver(\n    [v1[0], v2[0]],\n    [v1[1], v2[1]],\n    [v1[2], v2[2]],\n    [v1[3], v2[3]],\n    angles = 'xy', scale_units = 'xy', scale = 1,\n    color = sns.color_palette()\n)\n\nplt.show()",
   "execution_count": null,
   "outputs": []
  },
  {
   "cell_type": "code",
   "metadata": {
    "cell_id": "00002-a052e7b5-8858-489a-9d37-3726cda3b762",
    "deepnote_cell_type": "code"
   },
   "source": "v1 = np.array([0,3])\nv2 = np.array([3,3])\n\nprint(v1.T.dot(v2))",
   "execution_count": null,
   "outputs": []
  },
  {
   "cell_type": "code",
   "metadata": {
    "cell_id": "00003-3d366089-d09b-4e3f-911e-110306b02472",
    "deepnote_cell_type": "code"
   },
   "source": "Calculemos la norma para ver la igualdad",
   "execution_count": null,
   "outputs": []
  },
  {
   "cell_type": "code",
   "metadata": {
    "cell_id": "00004-8ee2edc7-7c4a-4954-92c4-0ef5b50a2ce4",
    "deepnote_cell_type": "code"
   },
   "source": "norm_v1 = np.linalg.norm(v1)\nnorm_v2 = np.linalg.norm(v2)\n\nprint(norm_v1 * norm_v2 * np.cos(np.deg2rad(45)))",
   "execution_count": null,
   "outputs": []
  },
  {
   "cell_type": "code",
   "metadata": {
    "cell_id": "00005-0209a92b-6eaf-4637-b508-9f75e00c7a7d",
    "deepnote_cell_type": "code"
   },
   "source": "#creamos los vectores, trabajaremos con A y B en una primera instancia\n\nAx = np.array([1,2])\nBx = np.array([5,3])\nA = np.array([1,3])\nB = np.array([5,4])\n\n# /*determinamos el valor de ATxB*/\n\nATxB = A.T.dot(B)\nprint(ATxB)\n\n#determinamos el valor de la segunda norma para ambos vectores por separado, para luego multiplicar\n\nA_L2 = np.linalg.norm(A, ord=2)\nB_L2 = np.linalg.norm(B, ord=2)\nAL2xBL2 = A_L2 * B_L2\nprint(AL2xBL2)",
   "execution_count": null,
   "outputs": []
  },
  {
   "cell_type": "code",
   "metadata": {
    "cell_id": "00006-3678d499-af01-407c-b507-fc7a6acaf8cd",
    "deepnote_cell_type": "code"
   },
   "source": "### Como calculamos el angulo que forman?\nEn este ejemplo podremos observar que los vectores estan muy relacionados.",
   "execution_count": null,
   "outputs": []
  },
  {
   "cell_type": "code",
   "metadata": {
    "cell_id": "00007-6c41e012-0b8a-40d2-bad9-f04e33216f6d",
    "deepnote_cell_type": "code"
   },
   "source": "# Para los arreglos.\nv1 = np.array([0,3])\nv2 = np.array([3,3])\n\n# Realizamos su producto interno.\nprod_in = v1.T.dot(v2)\n\n# Calculamos las L2.\nv1_norm = np.linalg.norm(v1)\nv2_norm = np.linalg.norm(v2)\n\n# Para calcular el nos aprovechamos de la igualdad de:\n# v1^t * v2 = L2(v1) * L2(v2) * cos(a).\ncos_a = prod_in / (v1_norm * v2_norm)\n\n# Despejamos el cos.\nang_rad_a = np.arccos(cos_a)\n\n# Pasamos de radiantes a grados.\nang_gra_a = np.rad2deg(ang_rad_a)\nprint(ang_gra_a) # Nos devuelve 45 lo que nos dice que hay entre v1 y v2 45 grados.",
   "execution_count": null,
   "outputs": []
  },
  {
   "cell_type": "code",
   "metadata": {
    "cell_id": "00008-223beb45-b186-4df6-83c3-4c6edb0f3e3a",
    "deepnote_cell_type": "code"
   },
   "source": "",
   "execution_count": null,
   "outputs": []
  },
  {
   "cell_type": "markdown",
   "source": "<a style='text-decoration:none;line-height:16px;display:flex;color:#5B5B62;padding:10px;justify-content:end;' href='https://deepnote.com?utm_source=created-in-deepnote-cell&projectId=4480efad-d7d2-486a-92b8-17e252344232' target=\"_blank\">\n<img alt='Created in deepnote.com' style='display:inline;max-height:16px;margin:0px;margin-right:7.5px;' src='data:image/svg+xml;base64,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' > </img>\nCreated in <span style='font-weight:600;margin-left:4px;'>Deepnote</span></a>",
   "metadata": {
    "tags": [],
    "created_in_deepnote_cell": true,
    "deepnote_cell_type": "markdown"
   }
  }
 ],
 "nbformat": 4,
 "nbformat_minor": 2,
 "metadata": {
  "language_info": {
   "codemirror_mode": {
    "name": "ipython",
    "version": 3
   },
   "file_extension": ".py",
   "mimetype": "text/x-python",
   "name": "python",
   "nbconvert_exporter": "python",
   "pygments_lexer": "ipython3",
   "version": 3
  },
  "orig_nbformat": 4,
  "deepnote_notebook_id": "6aab51fe-2ae8-4ae2-b200-e231a55b44df",
  "deepnote": {},
  "deepnote_execution_queue": []
 }
}