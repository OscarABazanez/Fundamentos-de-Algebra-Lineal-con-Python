{
 "metadata": {
  "language_info": {
   "codemirror_mode": {
    "name": "ipython",
    "version": 3
   },
   "file_extension": ".py",
   "mimetype": "text/x-python",
   "name": "python",
   "nbconvert_exporter": "python",
   "pygments_lexer": "ipython3",
   "version": 3
  },
  "orig_nbformat": 4
 },
 "nbformat": 4,
 "nbformat_minor": 2,
 "cells": [
  {
   "cell_type": "code",
   "execution_count": null,
   "metadata": {},
   "outputs": [],
   "source": [
    "## Producto interno expresado con normas\n",
    "\n",
    "El **producto interno** de dos vectores es numéricamente igual a la multiplicación de las normas (de orden 2) de estos vectores por el coseno que forman:\n",
    "\n",
    "$v_1.dot(v_2) = norm_2(v_1)*norm_2(v_2)*cos(α)$\n",
    "\n",
    "---\n",
    "La importancia de conocer los **angulos** que tienen nuestros **vectores** es que en machine learning se usa la **similitud de coseno**, por ejemplo:\n",
    "\n",
    "Si tenemos un vector todas las palabras de **un Documento** y entro vector todas las palabras de **otro Documento**, podriamos evaluar. Cual es el angulo que estos dos vectores estan formando?. Y si ese angulo fuera **pequeño** esto quiere decir que esos dos docuementos **se parecen mucho**, por el contrario si el angulo **defirieran en 90 grados** quiere decir que los Documentos **no estan relacionados**."
   ]
  },
  {
   "cell_type": "code",
   "execution_count": null,
   "metadata": {},
   "outputs": [],
   "source": [
    "v1 = np.array([0,0,0,3])\n",
    "v2 = np.array([0,0,3,3])\n",
    "\n",
    "plt.xlim(-2,6)\n",
    "plt.ylim(-2,6)\n",
    "\n",
    "plt.quiver(\n",
    "    [v1[0], v2[0]],\n",
    "    [v1[1], v2[1]],\n",
    "    [v1[2], v2[2]],\n",
    "    [v1[3], v2[3]],\n",
    "    angles = 'xy', scale_units = 'xy', scale = 1,\n",
    "    color = sns.color_palette()\n",
    ")\n",
    "\n",
    "plt.show()"
   ]
  },
  {
   "cell_type": "code",
   "execution_count": null,
   "metadata": {},
   "outputs": [],
   "source": [
    "v1 = np.array([0,3])\n",
    "v2 = np.array([3,3])\n",
    "\n",
    "print(v1.T.dot(v2))"
   ]
  },
  {
   "cell_type": "code",
   "execution_count": null,
   "metadata": {},
   "outputs": [],
   "source": [
    "Calculemos la norma para ver la igualdad"
   ]
  },
  {
   "cell_type": "code",
   "execution_count": null,
   "metadata": {},
   "outputs": [],
   "source": [
    "norm_v1 = np.linalg.norm(v1)\n",
    "norm_v2 = np.linalg.norm(v2)\n",
    "\n",
    "print(norm_v1 * norm_v2 * np.cos(np.deg2rad(45)))"
   ]
  },
  {
   "cell_type": "code",
   "execution_count": null,
   "metadata": {},
   "outputs": [],
   "source": [
    "#creamos los vectores, trabajaremos con A y B en una primera instancia\n",
    "\n",
    "Ax = np.array([1,2])\n",
    "Bx = np.array([5,3])\n",
    "A = np.array([1,3])\n",
    "B = np.array([5,4])\n",
    "\n",
    "# /*determinamos el valor de ATxB*/\n",
    "\n",
    "ATxB = A.T.dot(B)\n",
    "print(ATxB)\n",
    "\n",
    "#determinamos el valor de la segunda norma para ambos vectores por separado, para luego multiplicar\n",
    "\n",
    "A_L2 = np.linalg.norm(A, ord=2)\n",
    "B_L2 = np.linalg.norm(B, ord=2)\n",
    "AL2xBL2 = A_L2 * B_L2\n",
    "print(AL2xBL2)"
   ]
  },
  {
   "cell_type": "code",
   "execution_count": null,
   "metadata": {},
   "outputs": [],
   "source": [
    "### Como calculamos el angulo que forman?\n",
    "En este ejemplo podremos observar que los vectores estan muy relacionados."
   ]
  },
  {
   "cell_type": "code",
   "execution_count": null,
   "metadata": {},
   "outputs": [],
   "source": [
    "# Para los arreglos.\n",
    "v1 = np.array([0,3])\n",
    "v2 = np.array([3,3])\n",
    "\n",
    "# Realizamos su producto interno.\n",
    "prod_in = v1.T.dot(v2)\n",
    "\n",
    "# Calculamos las L2.\n",
    "v1_norm = np.linalg.norm(v1)\n",
    "v2_norm = np.linalg.norm(v2)\n",
    "\n",
    "# Para calcular el nos aprovechamos de la igualdad de:\n",
    "# v1^t * v2 = L2(v1) * L2(v2) * cos(a).\n",
    "cos_a = prod_in / (v1_norm * v2_norm)\n",
    "\n",
    "# Despejamos el cos.\n",
    "ang_rad_a = np.arccos(cos_a)\n",
    "\n",
    "# Pasamos de radiantes a grados.\n",
    "ang_gra_a = np.rad2deg(ang_rad_a)\n",
    "print(ang_gra_a) # Nos devuelve 45 lo que nos dice que hay entre v1 y v2 45 grados."
   ]
  },
  {
   "cell_type": "code",
   "execution_count": null,
   "metadata": {},
   "outputs": [],
   "source": []
  }
 ]
}