{
 "cells": [
  {
   "cell_type": "code",
   "metadata": {
    "tags": [],
    "cell_id": "00000-5a8104da-9b69-465e-a62a-b12076088b6a",
    "deepnote_to_be_reexecuted": false,
    "source_hash": "66d01e48",
    "execution_start": 1625709449595,
    "execution_millis": 0,
    "deepnote_cell_type": "code"
   },
   "source": "import numpy as np\n\nescalar = 99\nmatriz = np.array([[1,2,3],[4,5,6],[7,8,9]])\nmatriz2 = np.array([[5,77,3],[4,55,6],[7,65,9]])\nvector = np.array([1,2,3,4])\ntensor = np.array([\n    [[0,153,0],[255,255,255],[255,0,0]],\n    [[0,153,0],[102,51,0],[255,0,0]],\n    [[0,153,0],[255,255,255],[255,0,0]],\n])",
   "execution_count": 1,
   "outputs": []
  },
  {
   "cell_type": "markdown",
   "source": "# Transposición\nDefinimos a la **matriz transpuesta** como la matriz a la que le invertimos las filas por las columnas. Si teníamos una matriz de dimensiones *mxn* su transpuesta será una matriz de dimensión *nxm*.\n\nLa transpuesta tiene propiedades nos va a ayudar en las operaciones. Por ejemplo, para dividir sobre una matriz. \n\nPodemos ajustar el formato de los datos a nuestra conveniencia.\n\n- El arreglo transpuesto se encuentra guardado en el atributo .T\n- Por convención denotamos al transpuesto con un subíndice _t\n- Sintaxis = A_t = A.T\n\nUn **tensor también se puede transponer** en este caso se intercambiaran los elementos de manera que la jerarquía quede invertida. Sea un tensor de *mxnxp* el **tensor transpuesto** tendrá una dimensión de *pxnxm*",
   "metadata": {
    "tags": [],
    "cell_id": "00001-131acf82-f98e-428e-b034-1d5a78ab4b1b",
    "deepnote_cell_type": "markdown"
   }
  },
  {
   "cell_type": "markdown",
   "source": "**Matriz**",
   "metadata": {
    "tags": [],
    "cell_id": "00002-9587106b-2b25-4540-8eb9-de2b8d6c7673",
    "deepnote_cell_type": "markdown"
   }
  },
  {
   "cell_type": "code",
   "source": "print('Sin T:',matriz)\nprint('-'*50)\nprint('Con T',matriz.T)",
   "metadata": {
    "tags": [],
    "cell_id": "00003-cf211ef6-543a-4b3f-bebc-cb04e6589b8f",
    "deepnote_to_be_reexecuted": false,
    "source_hash": "4841dafa",
    "execution_start": 1625709449596,
    "execution_millis": 47,
    "deepnote_cell_type": "code"
   },
   "outputs": [
    {
     "name": "stdout",
     "text": "Sin T: [[1 2 3]\n [4 5 6]\n [7 8 9]]\n--------------------------------------------------\nCon T [[1 4 7]\n [2 5 8]\n [3 6 9]]\n",
     "output_type": "stream"
    }
   ],
   "execution_count": 2
  },
  {
   "cell_type": "markdown",
   "source": "**Tensor**",
   "metadata": {
    "tags": [],
    "cell_id": "00004-cbb44e88-c502-422f-81c7-41b0e06b0c71",
    "deepnote_cell_type": "markdown"
   }
  },
  {
   "cell_type": "code",
   "source": "print('Sin T:',tensor)\nprint('-'*50)\nprint('Con T',tensor.T)",
   "metadata": {
    "tags": [],
    "cell_id": "00005-f4ba5dbb-758d-4f71-ad1b-361dd1ce9ee1",
    "deepnote_to_be_reexecuted": false,
    "source_hash": "c82b12f7",
    "execution_start": 1625709449638,
    "execution_millis": 5,
    "deepnote_cell_type": "code"
   },
   "outputs": [
    {
     "name": "stdout",
     "text": "Sin T: [[[  0 153   0]\n  [255 255 255]\n  [255   0   0]]\n\n [[  0 153   0]\n  [102  51   0]\n  [255   0   0]]\n\n [[  0 153   0]\n  [255 255 255]\n  [255   0   0]]]\n--------------------------------------------------\nCon T [[[  0   0   0]\n  [255 102 255]\n  [255 255 255]]\n\n [[153 153 153]\n  [255  51 255]\n  [  0   0   0]]\n\n [[  0   0   0]\n  [255   0 255]\n  [  0   0   0]]]\n",
     "output_type": "stream"
    }
   ],
   "execution_count": 3
  },
  {
   "cell_type": "markdown",
   "source": "# Suma de matrices y escalares:\nPara la suma entre matrices, las 2 matrices deben tener la misma cantidad de filas y columnas (es decir, el mismo *mxn*). Se suma cada elemento de una matriz con su respectivo elemento de la otra matriz. \n\nPero en Python, existe el **broadcasting.**\n\nPara la suma entre un escalar con una matriz, se suma el escalar por cada valor de la matriz.",
   "metadata": {
    "tags": [],
    "cell_id": "00006-c1ef817f-f1d8-444c-8a45-74f09b01ce88",
    "deepnote_cell_type": "markdown"
   }
  },
  {
   "cell_type": "code",
   "source": "matriz + matriz2",
   "metadata": {
    "tags": [],
    "cell_id": "00006-736bc1da-280a-4d23-9b83-71fb8b0599fd",
    "deepnote_to_be_reexecuted": false,
    "source_hash": "888b1e21",
    "execution_start": 1625709449639,
    "execution_millis": 4,
    "deepnote_cell_type": "code"
   },
   "outputs": [
    {
     "output_type": "execute_result",
     "execution_count": 4,
     "data": {
      "text/plain": "array([[ 6, 79,  6],\n       [ 8, 60, 12],\n       [14, 73, 18]])"
     },
     "metadata": {}
    }
   ],
   "execution_count": 4
  },
  {
   "cell_type": "markdown",
   "source": "Suma Matriz con Escalar",
   "metadata": {
    "tags": [],
    "cell_id": "00008-ee438988-057b-4234-85da-908156a70734",
    "deepnote_cell_type": "markdown"
   }
  },
  {
   "cell_type": "code",
   "source": "matriz+ escalar",
   "metadata": {
    "tags": [],
    "cell_id": "00008-2618ca8a-ff4b-4bd1-917b-a09cda75f1e0",
    "deepnote_to_be_reexecuted": false,
    "source_hash": "30b21ae",
    "execution_start": 1625709449682,
    "execution_millis": 4,
    "deepnote_cell_type": "code"
   },
   "outputs": [
    {
     "output_type": "execute_result",
     "execution_count": 5,
     "data": {
      "text/plain": "array([[100, 101, 102],\n       [103, 104, 105],\n       [106, 107, 108]])"
     },
     "metadata": {}
    }
   ],
   "execution_count": 5
  },
  {
   "cell_type": "markdown",
   "source": "<a style='text-decoration:none;line-height:16px;display:flex;color:#5B5B62;padding:10px;justify-content:end;' href='https://deepnote.com?utm_source=created-in-deepnote-cell&projectId=e75321e8-1037-437c-8037-4042716c25af' target=\"_blank\">\n<img alt='Created in deepnote.com' style='display:inline;max-height:16px;margin:0px;margin-right:7.5px;' src='data:image/svg+xml;base64,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' > </img>\nCreated in <span style='font-weight:600;margin-left:4px;'>Deepnote</span></a>",
   "metadata": {
    "tags": [],
    "created_in_deepnote_cell": true,
    "deepnote_cell_type": "markdown"
   }
  }
 ],
 "nbformat": 4,
 "nbformat_minor": 2,
 "metadata": {
  "orig_nbformat": 2,
  "deepnote": {
   "is_reactive": false
  },
  "deepnote_notebook_id": "a6aec5c5-e785-4653-9dae-cd0ea57dd042",
  "deepnote_execution_queue": []
 }
}